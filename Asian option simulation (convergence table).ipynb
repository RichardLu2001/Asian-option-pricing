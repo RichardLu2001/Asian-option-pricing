{
 "cells": [
  {
   "cell_type": "markdown",
   "id": "d9a7ce9f",
   "metadata": {},
   "source": [
    "<font size=5 font color='blue'> Part I: Asian option pricing with 1000, 10000, 100000, 1000000 and 10000000 simulations, using antithetic variables and moment matching for variance reduction."
   ]
  },
  {
   "cell_type": "code",
   "execution_count": 3,
   "id": "918d1777",
   "metadata": {},
   "outputs": [
    {
     "name": "stdout",
     "output_type": "stream",
     "text": [
      "    n_sims |      Price |  Std Error |      Error (±2*SE)\n",
      "------------------------------------------------------\n",
      "      1000 |    14.4003 |     0.5516 | ±          1.1032\n",
      "     10000 |    13.8935 |     0.1653 | ±          0.3307\n",
      "    100000 |    13.9723 |     0.0526 | ±          0.1051\n",
      "   1000000 |    13.9599 |     0.0166 | ±          0.0332\n",
      "  10000000 |    13.9515 |     0.0052 | ±          0.0105\n"
     ]
    }
   ],
   "source": [
    "import numpy as np\n",
    "\n",
    "# Parameters\n",
    "S0 = 110.0     # Initial stock price\n",
    "K = 100.0      # Strike price\n",
    "r = 0.01       # Risk-free rate\n",
    "sigma = 0.3    # Volatility\n",
    "T = 1.0        # Time to maturity (1 year)\n",
    "m = 12         # Number of monitoring points (monthly)\n",
    "dt = T / m\n",
    "\n",
    "def compute_asian_price(n_sims):\n",
    "    \"\"\"\n",
    "    Compute the Asian call option price and its standard error using Monte Carlo simulation.\n",
    "    This function generates its own set of Z values (with moment matching and antithetic variates)\n",
    "    for each call, so that each n_sims uses its own Z-set.\n",
    "    \n",
    "    Parameters:\n",
    "      n_sims: Total number of simulation paths (must be even)\n",
    "      \n",
    "    Returns:\n",
    "      price_estimate: Monte Carlo estimate of the option price.\n",
    "      std_error: Standard error of the estimate.\n",
    "    \"\"\"\n",
    "    \n",
    "    n_sims_half = n_sims // 2\n",
    "\n",
    "    Z = np.random.randn(n_sims_half, m)\n",
    "    \n",
    "    # Moment matching: force sample mean=0 and std=1\n",
    "    Z = (Z - Z.mean()) / Z.std()\n",
    "    \n",
    "    # Create antithetic variates\n",
    "    Z_antithetic = -Z\n",
    "    \n",
    "    Z_all = np.vstack((Z, Z_antithetic))\n",
    "    \n",
    "    # Compute log increments for each time step\n",
    "    increments = (r - 0.5 * sigma**2) * dt + sigma * np.sqrt(dt) * Z_all\n",
    "    \n",
    "    # Compute cumulative log-returns for each simulation path\n",
    "    log_paths = np.cumsum(increments, axis=1)\n",
    "    \n",
    "    S_paths = S0 * np.exp(log_paths)\n",
    "    \n",
    "    S_mean = np.mean(S_paths, axis=1)\n",
    "\n",
    "    payoffs = np.maximum(S_mean - K, 0.0)\n",
    "\n",
    "    discount = np.exp(-r * T)\n",
    "    discounted_payoffs = discount * payoffs\n",
    "\n",
    "    price_estimate = np.mean(discounted_payoffs)\n",
    "    payoff_std = np.std(discounted_payoffs)\n",
    "    std_error = payoff_std / np.sqrt(n_sims)\n",
    "    \n",
    "    return price_estimate, std_error\n",
    "\n",
    "# Build a convergence table using different simulation counts.\n",
    "sim_list = [1_000, 10_000, 100_000, 1_000_000, 10_000_000]\n",
    "\n",
    "print(f\"{'n_sims':>10s} | {'Price':>10s} | {'Std Error':>10s} | {'Error (±2*SE)':>18s}\")\n",
    "print(\"-\" * 54)\n",
    "for sims in sim_list:\n",
    "    price, se = compute_asian_price(sims)\n",
    "    print(f\"{sims:10d} | {price:10.4f} | {se:10.4f} | ±{2*se:16.4f}\")"
   ]
  },
  {
   "cell_type": "markdown",
   "id": "175c042a",
   "metadata": {},
   "source": [
    "<font size=5 font color='blue'> Part II: Asian option pricing with 1000, 10000, 100000, 1000000 and 10000000 simulations, using antithetic variables, moment matching and control variates for variance reduction."
   ]
  },
  {
   "cell_type": "markdown",
   "id": "f372a3e6",
   "metadata": {},
   "source": [
    "<font size=4 font color='blue'> First, calculate the price of the Asian option based on the geometric average of asset prices, which has an analytical solution."
   ]
  },
  {
   "cell_type": "code",
   "execution_count": 5,
   "id": "66fb347b",
   "metadata": {},
   "outputs": [],
   "source": [
    "t = np.arange(1, m+1) * (T / m)\n",
    "T_bar = t.mean()"
   ]
  },
  {
   "cell_type": "code",
   "execution_count": 8,
   "id": "a7f66f46",
   "metadata": {},
   "outputs": [],
   "source": [
    "sum_ = 0.0\n",
    "for i in range(1, m+1):\n",
    "    sum_ += (2*i - 1) * t[m - i]\n",
    "sigma_bar_sq = (sigma**2 / (m**2 * T_bar)) * sum_"
   ]
  },
  {
   "cell_type": "code",
   "execution_count": 9,
   "id": "6187114b",
   "metadata": {},
   "outputs": [],
   "source": [
    "dividend = 0.5*sigma**2-0.5*sigma_bar_sq"
   ]
  },
  {
   "cell_type": "code",
   "execution_count": 10,
   "id": "37394baf",
   "metadata": {},
   "outputs": [],
   "source": [
    "from scipy.stats import norm\n",
    "d = (np.log(S0/K)+(r-dividend+0.5*sigma_bar_sq)*T_bar)/np.sqrt(sigma_bar_sq*T_bar)"
   ]
  },
  {
   "cell_type": "code",
   "execution_count": 11,
   "id": "9073de35",
   "metadata": {},
   "outputs": [
    {
     "data": {
      "text/plain": [
       "13.40575400389794"
      ]
     },
     "execution_count": 11,
     "metadata": {},
     "output_type": "execute_result"
    }
   ],
   "source": [
    "price_geo = np.exp(-dividend*T_bar-r*(T-T_bar))*S0*norm.cdf(d)-np.exp(-r*T)*K*norm.cdf(d-np.sqrt(sigma_bar_sq*T_bar))\n",
    "price_geo"
   ]
  },
  {
   "cell_type": "markdown",
   "id": "87951a8c",
   "metadata": {},
   "source": [
    "<font size=4, font color='blue'> Then use the geometric Asian option price as a control variate in simulating arithmetic Asian option price."
   ]
  },
  {
   "cell_type": "code",
   "execution_count": 13,
   "id": "151638ef",
   "metadata": {},
   "outputs": [],
   "source": [
    "def compute_asian_price_with_control(n_sims, S0, K, r, sigma, T, m, C_geom_exact):\n",
    "    \"\"\"\n",
    "    Parameters:\n",
    "      n_sims       : total number of simulation paths\n",
    "      S0, K, r, sigma, T, m: standard option parameters\n",
    "      C_geom_exact : known closed-form price of the geometric Asian call\n",
    "\n",
    "    Returns:\n",
    "      price_est : control-variate adjusted option price estimate\n",
    "      std_error : standard error of the estimator (with control variate)\n",
    "      corr      : sample correlation coefficient between arithmetic and geometric payoffs\n",
    "      VRF       : variance reduction factor = Var(original)/Var(control estimator)\n",
    "    \"\"\"\n",
    "    n_half = n_sims // 2\n",
    "    discount = np.exp(-r * T)\n",
    "\n",
    "    Z = np.random.randn(n_half, m)\n",
    "    Z = (Z - Z.mean()) / Z.std()\n",
    "\n",
    "    Z_anti = -Z\n",
    "    Z_all = np.vstack((Z, Z_anti))  \n",
    "\n",
    "    dt = T / m\n",
    "    increments = (r - 0.5 * sigma**2) * dt + sigma * np.sqrt(dt) * Z_all\n",
    "    log_paths = np.cumsum(increments, axis=1)\n",
    "    S_paths = S0 * np.exp(log_paths)  \n",
    "\n",
    "    S_arith = np.mean(S_paths, axis=1)\n",
    "    S_geom  = np.exp(np.mean(np.log(S_paths), axis=1))\n",
    "\n",
    "    payoff_arith = np.maximum(S_arith - K, 0)\n",
    "    payoff_geom  = np.maximum(S_geom  - K, 0)\n",
    "\n",
    "    # --- Discounted payoffs ---\n",
    "    disc_arith = discount * payoff_arith\n",
    "    disc_geom  = discount * payoff_geom\n",
    "\n",
    "    # --- Control variate method ---\n",
    "    # b* = cov(X, Y) / var(X)\n",
    "    # Y = disc_arith, X = disc_geom, E[X] = C_geom_exact\n",
    "    # Y_cv = Y - b*( X - E[X] )\n",
    "    X = disc_geom\n",
    "    Y = disc_arith\n",
    "    X_mean = X.mean()\n",
    "    Y_mean = Y.mean()\n",
    "\n",
    "    cov_XY = np.mean((X - X_mean) * (Y - Y_mean))  \n",
    "    var_X  = np.mean((X - X_mean)**2)            \n",
    "\n",
    "    b_est = cov_XY / var_X\n",
    "    Y_cv = Y - b_est * (X - C_geom_exact)\n",
    "\n",
    "    price_est = np.mean(Y_cv)\n",
    "    std_error = np.std(Y_cv) / np.sqrt(n_sims)\n",
    "\n",
    "    # --- Correlation & Variance Reduction Factor ---\n",
    "    std_X = np.std(X)\n",
    "    std_Y = np.std(Y)\n",
    "    corr = cov_XY / (std_X * std_Y)\n",
    "    var_original = np.var(Y)\n",
    "    var_cv = np.var(Y_cv)\n",
    "    VRF = 1/(1-corr**2)\n",
    "\n",
    "    return price_est, std_error, corr, VRF"
   ]
  },
  {
   "cell_type": "code",
   "execution_count": 14,
   "id": "15350ccb",
   "metadata": {},
   "outputs": [
    {
     "name": "stdout",
     "output_type": "stream",
     "text": [
      "    n_sims |   Price_CV |   StdError |      ±2*SE |     Corr |      VRF\n",
      "------------------------------------------------------------------\n",
      "      1000 |    13.9007 |     0.0165 | ±  0.0329 |   0.9995 | 1002.3470\n",
      "     10000 |    13.9466 |     0.0059 | ±  0.0117 |   0.9994 | 773.9619\n",
      "    100000 |    13.9548 |     0.0019 | ±  0.0038 |   0.9994 | 778.4845\n",
      "   1000000 |    13.9509 |     0.0006 | ±  0.0012 |   0.9994 | 784.1605\n",
      "  10000000 |    13.9514 |     0.0002 | ±  0.0004 |   0.9994 | 782.0758\n"
     ]
    }
   ],
   "source": [
    "sim_list = [1_000, 10_000, 100_000, 1_000_000, 10_000_000]\n",
    "\n",
    "\n",
    "print(f\"{'n_sims':>10s} | {'Price_CV':>10s} | {'StdError':>10s} | {'±2*SE':>10s} | {'Corr':>8s} | {'VRF':>8s}\")\n",
    "print(\"-\" * 66)\n",
    "\n",
    "for sims in sim_list:\n",
    "    price, se, corr, vrf = compute_asian_price_with_control(\n",
    "        n_sims=sims,\n",
    "        S0=S0, K=K, r=r, sigma=sigma, T=T, m=m,\n",
    "        C_geom_exact=price_geo\n",
    "    )\n",
    "    print(f\"{sims:10d} | {price:10.4f} | {se:10.4f} | ±{2*se:8.4f} | {corr:8.4f} | {vrf:8.4f}\")"
   ]
  },
  {
   "cell_type": "code",
   "execution_count": null,
   "id": "952d42e4",
   "metadata": {},
   "outputs": [],
   "source": []
  }
 ],
 "metadata": {
  "kernelspec": {
   "display_name": "Python 3 (ipykernel)",
   "language": "python",
   "name": "python3"
  },
  "language_info": {
   "codemirror_mode": {
    "name": "ipython",
    "version": 3
   },
   "file_extension": ".py",
   "mimetype": "text/x-python",
   "name": "python",
   "nbconvert_exporter": "python",
   "pygments_lexer": "ipython3",
   "version": "3.11.7"
  },
  "toc": {
   "base_numbering": 1,
   "nav_menu": {},
   "number_sections": true,
   "sideBar": true,
   "skip_h1_title": false,
   "title_cell": "Table of Contents",
   "title_sidebar": "Contents",
   "toc_cell": false,
   "toc_position": {},
   "toc_section_display": true,
   "toc_window_display": false
  }
 },
 "nbformat": 4,
 "nbformat_minor": 5
}
