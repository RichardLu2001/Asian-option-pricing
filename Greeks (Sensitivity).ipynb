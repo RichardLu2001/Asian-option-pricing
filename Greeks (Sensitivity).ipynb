{
 "cells": [
  {
   "cell_type": "code",
   "execution_count": 1,
   "id": "37741f9a",
   "metadata": {},
   "outputs": [],
   "source": [
    "import numpy as np\n",
    "\n",
    "# Parameters\n",
    "S0 = 110.0     # Initial stock price\n",
    "K = 100.0      # Strike price\n",
    "r = 0.01       # Risk-free rate\n",
    "sigma = 0.3    # Volatility\n",
    "T = 1.0        # Time to maturity (1 year)\n",
    "m = 12         # Number of monitoring points (monthly)\n",
    "dt = T / m"
   ]
  },
  {
   "cell_type": "markdown",
   "id": "8055d9f0",
   "metadata": {},
   "source": [
    "<font size=5, font color='blue'> Here, we use the same set of random number sequences (10000000 simulations) to approximate the value of all Greeks."
   ]
  },
  {
   "cell_type": "code",
   "execution_count": 3,
   "id": "836a061f",
   "metadata": {},
   "outputs": [],
   "source": [
    "n_sims = 10000000\n",
    "\n",
    "n_sims_half = n_sims // 2\n",
    "\n",
    "Z = np.random.randn(n_sims_half, m)\n",
    "    \n",
    "# Moment matching: force sample mean=0 and std=1\n",
    "Z = (Z - Z.mean()) / Z.std()\n",
    "    \n",
    "# Create antithetic variates\n",
    "Z_antithetic = -Z\n",
    "    \n",
    "Z_all = np.vstack((Z, Z_antithetic))"
   ]
  },
  {
   "cell_type": "markdown",
   "id": "2735ff4d",
   "metadata": {},
   "source": [
    "<font size=5, font color='blue'> Define a function to compute the analytical solution of the price of the Asian option based on geometric average stock price, which will be used as a control variate."
   ]
  },
  {
   "cell_type": "code",
   "execution_count": 20,
   "id": "2e8d8630",
   "metadata": {},
   "outputs": [],
   "source": [
    "from scipy.stats import norm\n",
    "def compute_geom_asian_price(S0, K, r, sigma, T, m):\n",
    "    t = np.arange(1, m+1) * (T / m)\n",
    "    T_bar = t.mean()\n",
    "    \n",
    "    sum_ = 0.0\n",
    "    for i in range(1, m+1):\n",
    "        sum_ += (2*i - 1) * t[m - i]\n",
    "    sigma_bar_sq = (sigma**2 / (m**2 * T_bar)) * sum_\n",
    "    \n",
    "    dividend = 0.5*sigma**2-0.5*sigma_bar_sq\n",
    "    d = (np.log(S0/K)+(r-dividend+0.5*sigma_bar_sq)*T_bar)/np.sqrt(sigma_bar_sq*T_bar)\n",
    "    \n",
    "    price_geo = np.exp(-dividend*T_bar-r*(T-T_bar))*S0*norm.cdf(d)-np.exp(-r*T)*K*norm.cdf(d-np.sqrt(sigma_bar_sq*T_bar))\n",
    "    \n",
    "    return price_geo"
   ]
  },
  {
   "cell_type": "code",
   "execution_count": 32,
   "id": "cb251544",
   "metadata": {},
   "outputs": [
    {
     "data": {
      "text/plain": [
       "13.40575400389794"
      ]
     },
     "execution_count": 32,
     "metadata": {},
     "output_type": "execute_result"
    }
   ],
   "source": [
    "original_geo_price = compute_geom_asian_price(S0, K, r, sigma, T, m)\n",
    "original_geo_price"
   ]
  },
  {
   "cell_type": "code",
   "execution_count": 8,
   "id": "6efedd2e",
   "metadata": {},
   "outputs": [],
   "source": [
    "def compute_asian_price_with_control(n_sims, S0, K, r, sigma, T, m, C_geom_exact):\n",
    "    \"\"\"\n",
    "    Parameters:\n",
    "      n_sims       : total number of simulation paths\n",
    "      S0, K, r, sigma, T, m: standard option parameters\n",
    "      C_geom_exact : known closed-form price of the geometric Asian call\n",
    "\n",
    "    Returns:\n",
    "      price_est : control-variate adjusted option price estimate\n",
    "    \"\"\"\n",
    "    increments = (r - 0.5 * sigma**2) * dt + sigma * np.sqrt(dt) * Z_all\n",
    "    log_paths = np.cumsum(increments, axis=1)\n",
    "    S_paths = S0 * np.exp(log_paths)  \n",
    "\n",
    "    S_arith = np.mean(S_paths, axis=1)\n",
    "    S_geom  = np.exp(np.mean(np.log(S_paths), axis=1))\n",
    "\n",
    "    payoff_arith = np.maximum(S_arith - K, 0)\n",
    "    payoff_geom  = np.maximum(S_geom  - K, 0)\n",
    "\n",
    "    # --- Discounted payoffs ---\n",
    "    discount = np.exp(-r * T)\n",
    "    disc_arith = discount * payoff_arith\n",
    "    disc_geom  = discount * payoff_geom\n",
    "\n",
    "    # --- Control variate method ---\n",
    "    # b* = cov(X, Y) / var(X)\n",
    "    # Y = disc_arith, X = disc_geom, E[X] = C_geom_exact\n",
    "    # Y_cv = Y - b*( X - E[X] )\n",
    "    X = disc_geom\n",
    "    Y = disc_arith\n",
    "    X_mean = X.mean()\n",
    "    Y_mean = Y.mean()\n",
    "\n",
    "    cov_XY = np.mean((X - X_mean) * (Y - Y_mean))  \n",
    "    var_X  = np.mean((X - X_mean)**2)            \n",
    "\n",
    "    b_est = cov_XY / var_X\n",
    "    Y_cv = Y - b_est * (X - C_geom_exact)\n",
    "\n",
    "    price_est = np.mean(Y_cv)\n",
    "\n",
    "    return price_est"
   ]
  },
  {
   "cell_type": "markdown",
   "id": "de0ad08f",
   "metadata": {},
   "source": [
    "<font size=5, font color='blue'> Use a range of shock values with respect to the stock price S0 to estimate the value of Delta and Gamma"
   ]
  },
  {
   "cell_type": "code",
   "execution_count": 50,
   "id": "76e0502f",
   "metadata": {},
   "outputs": [
    {
     "data": {
      "text/plain": [
       "[0.11, 0.55, 1.1, 5.5, 11.0]"
      ]
     },
     "execution_count": 50,
     "metadata": {},
     "output_type": "execute_result"
    }
   ],
   "source": [
    "S0_shock_list = [S0*i for i in [0.001,0.005,0.01,0.05,0.1]]\n",
    "S0_shock_list"
   ]
  },
  {
   "cell_type": "markdown",
   "id": "167ad3b5",
   "metadata": {},
   "source": [
    "<font size=5, font color='blue'> Delta is about 0.73"
   ]
  },
  {
   "cell_type": "code",
   "execution_count": 51,
   "id": "2149d427",
   "metadata": {},
   "outputs": [
    {
     "name": "stdout",
     "output_type": "stream",
     "text": [
      "delta=0.7317495931443606\n",
      "delta=0.7317524306387778\n",
      "delta=0.7316792125435627\n",
      "delta=0.7286424796600692\n",
      "delta=0.7194214481323106\n"
     ]
    }
   ],
   "source": [
    "for S0_shock in S0_shock_list:\n",
    "    new_geo_price_up = compute_geom_asian_price(S0+S0_shock, K, r, sigma, T, m)\n",
    "    new_geo_price_down = compute_geom_asian_price(S0-S0_shock, K, r, sigma, T, m)\n",
    "\n",
    "    delta = (compute_asian_price_with_control(10000000, S0+S0_shock, K, r, sigma, T, m, new_geo_price_up)-\n",
    "    compute_asian_price_with_control(10000000, S0-S0_shock, K, r, sigma, T, m, new_geo_price_down))/(2*S0_shock)\n",
    "\n",
    "    print('delta='+str(delta))"
   ]
  },
  {
   "cell_type": "markdown",
   "id": "a9a81c68",
   "metadata": {},
   "source": [
    "<font size=5, font color='blue'> Gamma is about 0.016"
   ]
  },
  {
   "cell_type": "code",
   "execution_count": 52,
   "id": "fba5ecf7",
   "metadata": {},
   "outputs": [
    {
     "name": "stdout",
     "output_type": "stream",
     "text": [
      "gamma=0.01639043340162516\n",
      "gamma=0.016415970260000735\n",
      "gamma=0.01636625728684525\n",
      "gamma=0.016304449969714065\n",
      "gamma=0.016215681220902074\n"
     ]
    }
   ],
   "source": [
    "for S0_shock in S0_shock_list:\n",
    "    new_geo_price_up1 = compute_geom_asian_price(S0+S0_shock, K, r, sigma, T, m)\n",
    "    new_geo_price_down1 = compute_geom_asian_price(S0-S0_shock, K, r, sigma, T, m)\n",
    "\n",
    "    gamma = (compute_asian_price_with_control(10000000, S0+S0_shock, K, r, sigma, T, m, new_geo_price_up1)\n",
    "    -2*compute_asian_price_with_control(10000000, S0, K, r, sigma, T, m, original_geo_price)\n",
    "    + compute_asian_price_with_control(10000000, S0-S0_shock, K, r, sigma, T, m, new_geo_price_down1))/(S0_shock**2)\n",
    "\n",
    "    print('gamma='+str(gamma))"
   ]
  },
  {
   "cell_type": "markdown",
   "id": "45ec45dc",
   "metadata": {},
   "source": [
    "<font size=5, font color='blue'> Vega is about 22"
   ]
  },
  {
   "cell_type": "code",
   "execution_count": 54,
   "id": "1b78ca31",
   "metadata": {},
   "outputs": [
    {
     "name": "stdout",
     "output_type": "stream",
     "text": [
      "vega=21.589758280208393\n"
     ]
    }
   ],
   "source": [
    "new_geo_price_vol_up = compute_geom_asian_price(S0, K, r, sigma+0.01, T, m)\n",
    "new_geo_price_vol_down = compute_geom_asian_price(S0, K, r, sigma-0.01, T, m)\n",
    "\n",
    "vega = (compute_asian_price_with_control(10000000, S0, K, r, sigma+0.01, T, m, new_geo_price_vol_up)-\n",
    "    compute_asian_price_with_control(10000000, S0, K, r, sigma-0.01, T, m, new_geo_price_vol_down))/(2*0.01)\n",
    "\n",
    "print('vega='+str(vega))"
   ]
  },
  {
   "cell_type": "markdown",
   "id": "dbfeb956",
   "metadata": {},
   "source": [
    "<font size=5, font color='blue'> Use a range of shock values with respect to the interest rate r to estimate the value of Rho"
   ]
  },
  {
   "cell_type": "code",
   "execution_count": 56,
   "id": "b401eb63",
   "metadata": {},
   "outputs": [
    {
     "data": {
      "text/plain": [
       "[0.001, 0.0025, 0.005, 0.0075, 0.01]"
      ]
     },
     "execution_count": 56,
     "metadata": {},
     "output_type": "execute_result"
    }
   ],
   "source": [
    "rate_shock_list = [0.001,0.0025,0.005,0.0075,0.01]\n",
    "rate_shock_list"
   ]
  },
  {
   "cell_type": "markdown",
   "id": "d7ed81ca",
   "metadata": {},
   "source": [
    "<font size=5, font color='blue'> Rho is about 30"
   ]
  },
  {
   "cell_type": "code",
   "execution_count": 57,
   "id": "c9e044f1",
   "metadata": {},
   "outputs": [
    {
     "name": "stdout",
     "output_type": "stream",
     "text": [
      "rho=30.437190081688215\n",
      "rho=30.437170296105975\n",
      "rho=30.43724469040452\n",
      "rho=30.437310839916403\n",
      "rho=30.436843555078053\n"
     ]
    }
   ],
   "source": [
    "for r_shock in rate_shock_list:\n",
    "    new_geo_price_rate_up = compute_geom_asian_price(S0, K, r+r_shock, sigma, T, m)\n",
    "    new_geo_price_rate_down = compute_geom_asian_price(S0, K, r-r_shock, sigma, T, m)\n",
    "\n",
    "    rho = (compute_asian_price_with_control(10000000, S0, K, r+r_shock, sigma, T, m, new_geo_price_rate_up)-\n",
    "        compute_asian_price_with_control(10000000, S0, K, r-r_shock, sigma, T, m, new_geo_price_rate_down))/(2*r_shock)\n",
    "\n",
    "    print('rho='+str(rho))"
   ]
  },
  {
   "cell_type": "code",
   "execution_count": null,
   "id": "fe507820",
   "metadata": {},
   "outputs": [],
   "source": []
  }
 ],
 "metadata": {
  "kernelspec": {
   "display_name": "Python 3 (ipykernel)",
   "language": "python",
   "name": "python3"
  },
  "language_info": {
   "codemirror_mode": {
    "name": "ipython",
    "version": 3
   },
   "file_extension": ".py",
   "mimetype": "text/x-python",
   "name": "python",
   "nbconvert_exporter": "python",
   "pygments_lexer": "ipython3",
   "version": "3.11.7"
  },
  "toc": {
   "base_numbering": 1,
   "nav_menu": {},
   "number_sections": true,
   "sideBar": true,
   "skip_h1_title": false,
   "title_cell": "Table of Contents",
   "title_sidebar": "Contents",
   "toc_cell": false,
   "toc_position": {},
   "toc_section_display": true,
   "toc_window_display": false
  }
 },
 "nbformat": 4,
 "nbformat_minor": 5
}
